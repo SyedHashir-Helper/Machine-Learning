{
  "nbformat": 4,
  "nbformat_minor": 0,
  "metadata": {
    "colab": {
      "provenance": []
    },
    "kernelspec": {
      "name": "python3",
      "display_name": "Python 3"
    },
    "language_info": {
      "name": "python"
    }
  },
  "cells": [
    {
      "cell_type": "code",
      "execution_count": 45,
      "metadata": {
        "id": "zzHYD0TPS7hH"
      },
      "outputs": [],
      "source": [
        "import numpy as np\n",
        "import pandas as pd\n"
      ]
    },
    {
      "cell_type": "code",
      "source": [
        "class LogisticRegression:\n",
        "  def __init__(self, step_size=0.01, max_iter=1000000, eps=1e-5, theta=None, verbose=True) -> None:\n",
        "    self.theta =  theta\n",
        "    self.step_size = step_size\n",
        "    self.max_iter = max_iter\n",
        "    self.eps = eps\n",
        "    self.verbose = verbose\n",
        "\n",
        "  def _gradient(self, x,y):\n",
        "    m, _ = x.shape\n",
        "    h_x = self.sigmoid(x.dot(self.theta))\n",
        "    grad = 1/m*x.T.dot((h_x - y))\n",
        "    return grad\n",
        "\n",
        "  @staticmethod\n",
        "  def sigmoid(z):\n",
        "    return 1/ (1+np.exp(-z))\n",
        "\n",
        "  def loss(self, x,y):\n",
        "    h_x = self.sigmoid(x.dot(self.theta))\n",
        "    loss = -np.mean(y*np.log(h_x+self.eps) + (1-y)*np.log(1-h_x+self.eps))\n",
        "\n",
        "    return loss\n",
        "\n",
        "  def hessian(self, x):\n",
        "    m,_ = x.shape\n",
        "\n",
        "    h_x = self.sigmoid(x.dot(self.theta))\n",
        "    diag = np.diag(h_x*(1-h_x))\n",
        "    hess = 1/m * x.T.dot(diag).dot(x)\n",
        "    return hess\n",
        "\n",
        "  def predict(self, x):\n",
        "    y_Hat = self.sigmoid(x.dot(self.theta))\n",
        "    return y_Hat\n",
        "\n",
        "  def fit(self, x,y):\n",
        "    m,n = x.shape\n",
        "    if self.theta is None:\n",
        "      self.theta = np.zeros(n, dtype=np.float32)\n",
        "    for i in range(self.max_iter):\n",
        "      grad = self._gradient(x,y)\n",
        "      hess = self.hessian(x)\n",
        "\n",
        "      prev_theta = np.copy(self.theta)\n",
        "      self.theta -= self.step_size*np.linalg.inv(hess).dot(grad)\n",
        "      # self.theta -= self.step_size*grad\n",
        "      loss = self.loss(x,y)\n",
        "      if self.verbose:\n",
        "        print('[iter: {:02d}, loss: {:.7f}]'.format(i, loss))\n",
        "      if np.sum(np.abs(prev_theta - self.theta)) < self.eps:\n",
        "        break\n",
        "\n",
        "    if self.verbose:\n",
        "            print('Final theta (logreg): {}'.format(self.theta))\n",
        "\n",
        ""
      ],
      "metadata": {
        "id": "N7FZtKkITbNF"
      },
      "execution_count": 57,
      "outputs": []
    },
    {
      "cell_type": "code",
      "source": [
        "df = pd.read_csv(\"ds1_train.csv\")\n",
        "\n",
        "x_train = df.iloc[:, 0:2]\n",
        "y_train = df.iloc[:, 2]"
      ],
      "metadata": {
        "id": "5Xo4dF53TNiD"
      },
      "execution_count": 58,
      "outputs": []
    },
    {
      "cell_type": "code",
      "source": [
        "x_ones = np.ones((x_train.shape[0],1))\n",
        "x_train = np.concatenate((x_ones, x_train), axis=1)"
      ],
      "metadata": {
        "id": "eezELMPFa9TX"
      },
      "execution_count": 59,
      "outputs": []
    },
    {
      "cell_type": "code",
      "source": [
        "x_train"
      ],
      "metadata": {
        "colab": {
          "base_uri": "https://localhost:8080/"
        },
        "id": "sg4Q5GNhiML0",
        "outputId": "520f029f-97ab-4a72-ba01-0a3cc404f2a7"
      },
      "execution_count": 60,
      "outputs": [
        {
          "output_type": "execute_result",
          "data": {
            "text/plain": [
              "array([[1.        , 0.41180854, 1.10552487],\n",
              "       [1.        , 1.27474554, 6.30331401],\n",
              "       [1.        , 0.11548828, 3.26425138],\n",
              "       ...,\n",
              "       [1.        , 0.96909526, 4.51838094],\n",
              "       [1.        , 1.95753102, 6.08296767],\n",
              "       [1.        , 2.02533402, 2.72958809]])"
            ]
          },
          "metadata": {},
          "execution_count": 60
        }
      ]
    },
    {
      "cell_type": "code",
      "source": [
        "y_train"
      ],
      "metadata": {
        "colab": {
          "base_uri": "https://localhost:8080/"
        },
        "id": "nsjQMv7Obi-7",
        "outputId": "86f1b7fe-10fc-4c21-acc0-43cc9c246109"
      },
      "execution_count": 61,
      "outputs": [
        {
          "output_type": "execute_result",
          "data": {
            "text/plain": [
              "0      0.0\n",
              "1      0.0\n",
              "2      0.0\n",
              "3      0.0\n",
              "4      0.0\n",
              "      ... \n",
              "795    1.0\n",
              "796    1.0\n",
              "797    1.0\n",
              "798    1.0\n",
              "799    1.0\n",
              "Name: y, Length: 800, dtype: float64"
            ]
          },
          "metadata": {},
          "execution_count": 61
        }
      ]
    },
    {
      "cell_type": "code",
      "source": [
        "clf = LogisticRegression()\n",
        "clf.fit(x_train, y_train)"
      ],
      "metadata": {
        "id": "LDf4u8DhbpGR"
      },
      "execution_count": null,
      "outputs": []
    },
    {
      "cell_type": "code",
      "source": [
        "df_eval = pd.read_csv(\"ds1_valid.csv\")\n",
        "\n",
        "x_eval = df_eval.iloc[:, 0:2]\n",
        "y_eval = df_eval.iloc[:, 2]"
      ],
      "metadata": {
        "id": "jvkWxBXdebJo"
      },
      "execution_count": 63,
      "outputs": []
    },
    {
      "cell_type": "code",
      "source": [
        "x_ones = np.ones((x_eval.shape[0],1))\n",
        "x_eval = np.concatenate((x_ones, x_eval), axis=1)"
      ],
      "metadata": {
        "id": "6NBhK7jukED2"
      },
      "execution_count": 64,
      "outputs": []
    },
    {
      "cell_type": "code",
      "source": [
        "p_eval = clf.predict(x_eval)"
      ],
      "metadata": {
        "id": "wZgz-vl7fJ4r"
      },
      "execution_count": 65,
      "outputs": []
    },
    {
      "cell_type": "code",
      "source": [
        "yhat = p_eval > 0.5"
      ],
      "metadata": {
        "id": "0uWSfhZKfOYk"
      },
      "execution_count": 66,
      "outputs": []
    },
    {
      "cell_type": "code",
      "source": [
        "print('LR Accuracy: %.2f' % np.mean( (yhat == 1) == (y_eval == 1)))"
      ],
      "metadata": {
        "colab": {
          "base_uri": "https://localhost:8080/"
        },
        "id": "UiAxF7hufR1o",
        "outputId": "38c3d3d6-1d35-4d09-e58c-82e06fc41637"
      },
      "execution_count": 67,
      "outputs": [
        {
          "output_type": "stream",
          "name": "stdout",
          "text": [
            "LR Accuracy: 0.83\n"
          ]
        }
      ]
    }
  ]
}